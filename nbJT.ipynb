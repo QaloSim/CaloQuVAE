{
 "cells": [
  {
   "cell_type": "code",
   "execution_count": 4,
   "id": "4d0e1478",
   "metadata": {},
   "outputs": [],
   "source": [
    "import numpy as np\n",
    "import matplotlib.pyplot as plt\n",
    "%matplotlib inline\n",
    "%config InlineBackend.figure_format = 'retina'\n",
    "\n",
    "import torch\n",
    "from hydra.utils import instantiate\n",
    "from hydra import initialize, compose\n",
    "import hydra\n",
    "\n",
    "import wandb\n",
    "\n",
    "from data.dataManager import DataManager\n",
    "from model.modelCreator import ModelCreator\n",
    "from omegaconf import OmegaConf\n",
    "from scripts.run import setup_model, load_model_instance\n",
    "\n",
    "from utils.plots import vae_plots\n",
    "from utils.rbm_plots import plot_rbm_histogram, plot_rbm_params"
   ]
  },
  {
   "cell_type": "code",
   "execution_count": 2,
   "id": "0e48f8d8",
   "metadata": {},
   "outputs": [
    {
     "data": {
      "text/html": [
       "<button onClick=\"this.nextSibling.style.display='block';this.style.display='none';\">Display W&B run</button><iframe src='https://wandb.ai/dummy/dummy/runs/g9tpbzyx?jupyter=true' style='border:none;width:100%;height:420px;display:none;'></iframe>"
      ],
      "text/plain": [
       "<wandb.sdk.wandb_run.Run at 0x7f05f6bf4e90>"
      ]
     },
     "execution_count": 2,
     "metadata": {},
     "output_type": "execute_result"
    }
   ],
   "source": [
    "hydra.core.global_hydra.GlobalHydra.instance().clear()\n",
    "initialize(version_base=None, config_path=\"config\")\n",
    "config=compose(config_name=\"config.yaml\")\n",
    "wandb.init(tags = [config.data.dataset_name], project=config.wandb.project, entity=config.wandb.entity, config=OmegaConf.to_container(config, resolve=True), mode='disabled')"
   ]
  },
  {
   "cell_type": "code",
   "execution_count": null,
   "id": "90abb182",
   "metadata": {},
   "outputs": [],
   "source": [
    "new_model = True\n",
    "if new_model:\n",
    "    self = setup_model(config)\n",
    "    # self.model = self.model.double()  # sets all model parameters to float64\n",
    "else:\n",
    "    self = load_model_instance(config)\n",
    "    # self.model = self.model.double()\n"
   ]
  },
  {
   "cell_type": "code",
   "execution_count": 56,
   "id": "7fe02e2a",
   "metadata": {},
   "outputs": [],
   "source": [
    "from utils.HighLevelFeatures import HighLevelFeatures as HLF\n",
    "from scripts.Jet_metrics import get_fpd_kpd_metrics"
   ]
  },
  {
   "cell_type": "code",
   "execution_count": 62,
   "id": "332d4168",
   "metadata": {},
   "outputs": [],
   "source": [
    "hlf = HLF('electron', filename=self._config.data.binning_path)\n",
    "ref_hlf = HLF('electron', filename=self._config.data.binning_path)\n",
    "hlf.Einc = self.incident_energy"
   ]
  },
  {
   "cell_type": "code",
   "execution_count": 58,
   "id": "caa5253a",
   "metadata": {},
   "outputs": [],
   "source": [
    "self.evaluate_vae(self.data_mgr.val_loader,0)"
   ]
  },
  {
   "cell_type": "code",
   "execution_count": 63,
   "id": "ee8df69c",
   "metadata": {},
   "outputs": [],
   "source": [
    "get_fpd_kpd_metrics(self.showers.numpy(), \n",
    "                    self.showers_recon.numpy(), False, hlf, ref_hlf)"
   ]
  },
  {
   "cell_type": "code",
   "execution_count": 64,
   "id": "e3e088c8",
   "metadata": {},
   "outputs": [],
   "source": [
    "get_fpd_kpd_metrics(self.showers.numpy(), \n",
    "                    self.showers_prior.numpy(), False, hlf, ref_hlf)"
   ]
  },
  {
   "cell_type": "code",
   "execution_count": null,
   "id": "bf58df0e",
   "metadata": {},
   "outputs": [],
   "source": []
  }
 ],
 "metadata": {
  "kernelspec": {
   "display_name": "Python 3 (ipykernel)",
   "language": "python",
   "name": "python3"
  },
  "language_info": {
   "codemirror_mode": {
    "name": "ipython",
    "version": 3
   },
   "file_extension": ".py",
   "mimetype": "text/x-python",
   "name": "python",
   "nbconvert_exporter": "python",
   "pygments_lexer": "ipython3",
   "version": "3.12.3"
  }
 },
 "nbformat": 4,
 "nbformat_minor": 5
}
