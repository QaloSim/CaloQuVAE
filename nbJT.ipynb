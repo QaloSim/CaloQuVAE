{
 "cells": [
  {
   "cell_type": "code",
   "execution_count": 1,
   "id": "4d0e1478",
   "metadata": {},
   "outputs": [
    {
     "name": "stderr",
     "output_type": "stream",
     "text": [
      "\u001b[1m[14:45:23.422]\u001b[0m \u001b[1;95mINFO \u001b[1;0m  \u001b[1mCaloQuVAE                                         \u001b[0mLoading configuration.\n"
     ]
    }
   ],
   "source": [
    "import numpy as np\n",
    "import matplotlib.pyplot as plt\n",
    "%matplotlib inline\n",
    "%config InlineBackend.figure_format = 'retina'\n",
    "\n",
    "import torch\n",
    "from hydra.utils import instantiate\n",
    "from hydra import initialize, compose\n",
    "import hydra\n",
    "\n",
    "import wandb\n",
    "\n",
    "from data.dataManager import DataManager\n",
    "from model.modelCreator import ModelCreator\n",
    "from omegaconf import OmegaConf\n",
    "from scripts.run import setup_model, load_model_instance\n",
    "\n",
    "from utils.plots import vae_plots\n",
    "from utils.rbm_plots import plot_rbm_histogram"
   ]
  },
  {
   "cell_type": "code",
   "execution_count": 79,
   "id": "0e48f8d8",
   "metadata": {},
   "outputs": [
    {
     "data": {
      "text/html": [
       "<button onClick=\"this.nextSibling.style.display='block';this.style.display='none';\">Display W&B run</button><iframe src='https://wandb.ai/dummy/dummy/runs/sb4ls3gw?jupyter=true' style='border:none;width:100%;height:420px;display:none;'></iframe>"
      ],
      "text/plain": [
       "<wandb.sdk.wandb_run.Run at 0x7fac97fca9f0>"
      ]
     },
     "execution_count": 79,
     "metadata": {},
     "output_type": "execute_result"
    }
   ],
   "source": [
    "hydra.core.global_hydra.GlobalHydra.instance().clear()\n",
    "initialize(version_base=None, config_path=\"config\")\n",
    "config=compose(config_name=\"config.yaml\")\n",
    "wandb.init(tags = [config.data.dataset_name], project=config.wandb.project, entity=config.wandb.entity, config=OmegaConf.to_container(config, resolve=True), mode='disabled')"
   ]
  },
  {
   "cell_type": "code",
   "execution_count": 80,
   "id": "90abb182",
   "metadata": {},
   "outputs": [
    {
     "name": "stderr",
     "output_type": "stream",
     "text": [
      "\u001b[1m[03:40:38.168]\u001b[0m \u001b[1;95mINFO \u001b[1;0m  \u001b[1mdata.dataManager                                  \u001b[0mLoading other dataset: CaloChallenge2\n",
      "\u001b[1m[03:40:38.170]\u001b[0m \u001b[1;95mINFO \u001b[1;0m  \u001b[1mdata.dataManager                                  \u001b[0mKeys: ['incident_energies', 'showers']\n",
      "\u001b[1m[03:40:42.776]\u001b[0m \u001b[1;95mINFO \u001b[1;0m  \u001b[1mdata.dataManager                                  \u001b[0mdict_keys(['incident_energies', 'showers'])\n",
      "\u001b[1m[03:40:42.777]\u001b[0m \u001b[1;95mINFO \u001b[1;0m  \u001b[1mdata.dataManager                                  \u001b[0m<torch.utils.data.dataloader.DataLoader object at 0x7fa824eaf590>: 79999 events, 157 batches\n",
      "\u001b[1m[03:40:42.778]\u001b[0m \u001b[1;95mINFO \u001b[1;0m  \u001b[1mdata.dataManager                                  \u001b[0m<torch.utils.data.dataloader.DataLoader object at 0x7fa85c6b8920>: 10001 events, 10 batches\n",
      "\u001b[1m[03:40:42.778]\u001b[0m \u001b[1;95mINFO \u001b[1;0m  \u001b[1mdata.dataManager                                  \u001b[0m<torch.utils.data.dataloader.DataLoader object at 0x7fac8229b530>: 9999 events, 10 batches\n",
      "\u001b[1m[03:40:42.778]\u001b[0m \u001b[1;95mINFO \u001b[1;0m  \u001b[1mmodel.modelCreator                                \u001b[0m::Creating Model\n",
      "\u001b[1m[03:40:43.532]\u001b[0m \u001b[1;95mINFO \u001b[1;0m  \u001b[1mdwave.cloud.client.base                           \u001b[0mFetching definitions of all available solvers\n"
     ]
    },
    {
     "name": "stderr",
     "output_type": "stream",
     "text": [
      "\u001b[1m[03:40:43.686]\u001b[0m \u001b[1;95mINFO \u001b[1;0m  \u001b[1mdwave.cloud.client.base                           \u001b[0mReceived solver data for 7 solver(s).\n",
      "\u001b[1m[03:40:43.752]\u001b[0m \u001b[1;95mINFO \u001b[1;0m  \u001b[1mdwave.cloud.client.base                           \u001b[0mAdding solver StructuredSolver(id='Advantage_system4.1')\n",
      "\u001b[1m[03:40:43.794]\u001b[0m \u001b[1;95mINFO \u001b[1;0m  \u001b[1mdwave.cloud.client.base                           \u001b[0mAdding solver StructuredSolver(id='Advantage_system6.4')\n",
      "\u001b[1m[03:40:43.834]\u001b[0m \u001b[1;95mINFO \u001b[1;0m  \u001b[1mdwave.cloud.client.base                           \u001b[0mAdding solver StructuredSolver(id='Advantage2_system1.3')\n",
      "\u001b[1m[03:40:44.236]\u001b[0m \u001b[1;95mINFO \u001b[1;0m  \u001b[1mscripts.run                                       \u001b[0mRequesting GPUs. GPU list :[1]\n",
      "\u001b[1m[03:40:44.237]\u001b[0m \u001b[1;95mINFO \u001b[1;0m  \u001b[1mscripts.run                                       \u001b[0mMain GPU : cuda:1\n",
      "\u001b[1m[03:40:44.237]\u001b[0m \u001b[1;95mINFO \u001b[1;0m  \u001b[1mscripts.run                                       \u001b[0mCUDA available\n"
     ]
    },
    {
     "name": "stdout",
     "output_type": "stream",
     "text": [
      "cuda:1\n"
     ]
    },
    {
     "name": "stderr",
     "output_type": "stream",
     "text": [
      "\u001b[1m[03:40:44.837]\u001b[0m \u001b[1;95mINFO \u001b[1;0m  \u001b[1mmodel.modelCreator                                \u001b[0mLoading state\n"
     ]
    },
    {
     "name": "stdout",
     "output_type": "stream",
     "text": [
      "encoder._networks.0.seq1.0.conv.weight True\n",
      "encoder._networks.0.seq1.0.conv.bias True\n",
      "encoder._networks.0.seq1.1.weight True\n",
      "encoder._networks.0.seq1.1.bias True\n",
      "encoder._networks.0.seq1.2.weight True\n",
      "encoder._networks.0.seq1.3.conv.weight True\n",
      "encoder._networks.0.seq1.3.conv.bias True\n",
      "encoder._networks.0.seq1.4.weight True\n",
      "encoder._networks.0.seq1.4.bias True\n",
      "encoder._networks.0.seq1.5.weight True\n",
      "encoder._networks.0.seq1.6.conv.weight True\n",
      "encoder._networks.0.seq1.6.conv.bias True\n",
      "encoder._networks.0.seq1.7.weight True\n",
      "encoder._networks.0.seq1.7.bias True\n",
      "encoder._networks.0.seq1.8.weight True\n",
      "encoder._networks.0.seq2.0.conv.weight True\n",
      "encoder._networks.0.seq2.0.conv.bias True\n",
      "encoder._networks.0.seq2.1.weight True\n",
      "encoder._networks.0.seq2.1.bias True\n",
      "encoder._networks.0.seq2.2.weight True\n",
      "encoder._networks.0.seq2.3.conv.weight True\n",
      "encoder._networks.0.seq2.3.conv.bias True\n",
      "encoder._networks.0.seq2.4.weight True\n",
      "encoder._networks.1.seq1.0.conv.weight True\n",
      "encoder._networks.1.seq1.0.conv.bias True\n",
      "encoder._networks.1.seq1.1.weight True\n",
      "encoder._networks.1.seq1.1.bias True\n",
      "encoder._networks.1.seq1.2.weight True\n",
      "encoder._networks.1.seq1.3.conv.weight True\n",
      "encoder._networks.1.seq1.3.conv.bias True\n",
      "encoder._networks.1.seq1.4.weight True\n",
      "encoder._networks.1.seq1.4.bias True\n",
      "encoder._networks.1.seq1.5.weight True\n",
      "encoder._networks.1.seq1.6.conv.weight True\n",
      "encoder._networks.1.seq1.6.conv.bias True\n",
      "encoder._networks.1.seq1.7.weight True\n",
      "encoder._networks.1.seq1.7.bias True\n",
      "encoder._networks.1.seq1.8.weight True\n",
      "encoder._networks.1.seq2.0.conv.weight True\n",
      "encoder._networks.1.seq2.0.conv.bias True\n",
      "encoder._networks.1.seq2.1.weight True\n",
      "encoder._networks.1.seq2.1.bias True\n",
      "encoder._networks.1.seq2.2.weight True\n",
      "encoder._networks.1.seq2.3.conv.weight True\n",
      "encoder._networks.1.seq2.3.conv.bias True\n",
      "encoder._networks.1.seq2.4.weight True\n",
      "encoder._networks.2.seq1.0.conv.weight True\n",
      "encoder._networks.2.seq1.0.conv.bias True\n",
      "encoder._networks.2.seq1.1.weight True\n",
      "encoder._networks.2.seq1.1.bias True\n",
      "encoder._networks.2.seq1.2.weight True\n",
      "encoder._networks.2.seq1.3.conv.weight True\n",
      "encoder._networks.2.seq1.3.conv.bias True\n",
      "encoder._networks.2.seq1.4.weight True\n",
      "encoder._networks.2.seq1.4.bias True\n",
      "encoder._networks.2.seq1.5.weight True\n",
      "encoder._networks.2.seq1.6.conv.weight True\n",
      "encoder._networks.2.seq1.6.conv.bias True\n",
      "encoder._networks.2.seq1.7.weight True\n",
      "encoder._networks.2.seq1.7.bias True\n",
      "encoder._networks.2.seq1.8.weight True\n",
      "encoder._networks.2.seq2.0.conv.weight True\n",
      "encoder._networks.2.seq2.0.conv.bias True\n",
      "encoder._networks.2.seq2.1.weight True\n",
      "encoder._networks.2.seq2.1.bias True\n",
      "encoder._networks.2.seq2.2.weight True\n",
      "encoder._networks.2.seq2.3.conv.weight True\n",
      "encoder._networks.2.seq2.3.conv.bias True\n",
      "encoder._networks.2.seq2.4.weight True\n",
      "decoder.moduleLayers.0._layers.1.conv.weight True\n",
      "decoder.moduleLayers.0._layers.1.conv.bias True\n",
      "decoder.moduleLayers.0._layers.2.weight True\n",
      "decoder.moduleLayers.0._layers.2.bias True\n",
      "decoder.moduleLayers.0._layers.3.weight True\n",
      "decoder.moduleLayers.0._layers.4.conv.weight True\n",
      "decoder.moduleLayers.0._layers.4.conv.bias True\n",
      "decoder.moduleLayers.0._layers.5.weight True\n",
      "decoder.moduleLayers.0._layers.5.bias True\n",
      "decoder.moduleLayers.0._layers.6.weight True\n",
      "decoder.moduleLayers.0._layers2.0.conv.weight True\n",
      "decoder.moduleLayers.0._layers2.0.conv.bias True\n",
      "decoder.moduleLayers.0._layers2.1.weight True\n",
      "decoder.moduleLayers.0._layers2.1.bias True\n",
      "decoder.moduleLayers.0._layers2.2.weight True\n",
      "decoder.moduleLayers.0._layers2.3.conv.weight True\n",
      "decoder.moduleLayers.0._layers2.3.conv.bias True\n",
      "decoder.moduleLayers.0._layers2.4.weight True\n",
      "decoder.moduleLayers.0._layers2.4.bias True\n",
      "decoder.moduleLayers.0._layers2.5.weight True\n",
      "decoder.moduleLayers.0._layers2.6.conv.weight True\n",
      "decoder.moduleLayers.0._layers2.6.conv.bias True\n",
      "decoder.moduleLayers.0._layers2.7.conv.weight True\n",
      "decoder.moduleLayers.0._layers2.7.conv.bias True\n",
      "decoder.moduleLayers.0._layers2.8.weight True\n",
      "decoder.moduleLayers.0._layers3.0.conv.weight True\n",
      "decoder.moduleLayers.0._layers3.0.conv.bias True\n",
      "decoder.moduleLayers.0._layers3.1.weight True\n",
      "decoder.moduleLayers.0._layers3.1.bias True\n",
      "decoder.moduleLayers.0._layers3.2.weight True\n",
      "decoder.moduleLayers.0._layers3.3.conv.weight True\n",
      "decoder.moduleLayers.0._layers3.3.conv.bias True\n",
      "decoder.moduleLayers.0._layers3.4.weight True\n",
      "decoder.moduleLayers.0._layers3.4.bias True\n",
      "decoder.moduleLayers.0._layers3.5.weight True\n",
      "decoder.moduleLayers.0._layers3.6.conv.weight True\n",
      "decoder.moduleLayers.0._layers3.6.conv.bias True\n",
      "decoder.moduleLayers.0._layers3.7.conv.weight True\n",
      "decoder.moduleLayers.0._layers3.7.conv.bias True\n",
      "decoder.moduleLayers.0._layers3.8.weight True\n",
      "decoder.moduleLayers.1._layers.1.conv.weight True\n",
      "decoder.moduleLayers.1._layers.1.conv.bias True\n",
      "decoder.moduleLayers.1._layers.2.weight True\n",
      "decoder.moduleLayers.1._layers.2.bias True\n",
      "decoder.moduleLayers.1._layers.3.weight True\n",
      "decoder.moduleLayers.1._layers.4.conv.weight True\n",
      "decoder.moduleLayers.1._layers.4.conv.bias True\n",
      "decoder.moduleLayers.1._layers.5.weight True\n",
      "decoder.moduleLayers.1._layers.5.bias True\n",
      "decoder.moduleLayers.1._layers.6.weight True\n",
      "decoder.moduleLayers.1._layers2.0.conv.weight True\n",
      "decoder.moduleLayers.1._layers2.0.conv.bias True\n",
      "decoder.moduleLayers.1._layers2.1.weight True\n",
      "decoder.moduleLayers.1._layers2.1.bias True\n",
      "decoder.moduleLayers.1._layers2.2.weight True\n",
      "decoder.moduleLayers.1._layers2.3.conv.weight True\n",
      "decoder.moduleLayers.1._layers2.3.conv.bias True\n",
      "decoder.moduleLayers.1._layers2.4.weight True\n",
      "decoder.moduleLayers.1._layers2.4.bias True\n",
      "decoder.moduleLayers.1._layers2.5.weight True\n",
      "decoder.moduleLayers.1._layers2.6.conv.weight True\n",
      "decoder.moduleLayers.1._layers2.6.conv.bias True\n",
      "decoder.moduleLayers.1._layers2.7.conv.weight True\n",
      "decoder.moduleLayers.1._layers2.7.conv.bias True\n",
      "decoder.moduleLayers.1._layers2.8.weight True\n",
      "decoder.moduleLayers.1._layers3.0.conv.weight True\n",
      "decoder.moduleLayers.1._layers3.0.conv.bias True\n",
      "decoder.moduleLayers.1._layers3.1.weight True\n",
      "decoder.moduleLayers.1._layers3.1.bias True\n",
      "decoder.moduleLayers.1._layers3.2.weight True\n",
      "decoder.moduleLayers.1._layers3.3.conv.weight True\n",
      "decoder.moduleLayers.1._layers3.3.conv.bias True\n",
      "decoder.moduleLayers.1._layers3.4.weight True\n",
      "decoder.moduleLayers.1._layers3.4.bias True\n",
      "decoder.moduleLayers.1._layers3.5.weight True\n",
      "decoder.moduleLayers.1._layers3.6.conv.weight True\n",
      "decoder.moduleLayers.1._layers3.6.conv.bias True\n",
      "decoder.moduleLayers.1._layers3.7.conv.weight True\n",
      "decoder.moduleLayers.1._layers3.7.conv.bias True\n",
      "decoder.moduleLayers.1._layers3.8.weight True\n",
      "decoder.moduleLayers.2._layers.1.conv.weight True\n",
      "decoder.moduleLayers.2._layers.1.conv.bias True\n",
      "decoder.moduleLayers.2._layers.2.weight True\n",
      "decoder.moduleLayers.2._layers.2.bias True\n",
      "decoder.moduleLayers.2._layers.3.weight True\n",
      "decoder.moduleLayers.2._layers.4.conv.weight True\n",
      "decoder.moduleLayers.2._layers.4.conv.bias True\n",
      "decoder.moduleLayers.2._layers.5.weight True\n",
      "decoder.moduleLayers.2._layers.5.bias True\n",
      "decoder.moduleLayers.2._layers.6.weight True\n",
      "decoder.moduleLayers.2._layers2.0.conv.weight True\n",
      "decoder.moduleLayers.2._layers2.0.conv.bias True\n",
      "decoder.moduleLayers.2._layers2.1.weight True\n",
      "decoder.moduleLayers.2._layers2.1.bias True\n",
      "decoder.moduleLayers.2._layers2.2.weight True\n",
      "decoder.moduleLayers.2._layers2.3.conv.weight True\n",
      "decoder.moduleLayers.2._layers2.3.conv.bias True\n",
      "decoder.moduleLayers.2._layers2.4.weight True\n",
      "decoder.moduleLayers.2._layers2.4.bias True\n",
      "decoder.moduleLayers.2._layers2.5.weight True\n",
      "decoder.moduleLayers.2._layers2.6.conv.weight True\n",
      "decoder.moduleLayers.2._layers2.6.conv.bias True\n",
      "decoder.moduleLayers.2._layers2.7.conv.weight True\n",
      "decoder.moduleLayers.2._layers2.7.conv.bias True\n",
      "decoder.moduleLayers.2._layers2.8.weight True\n",
      "decoder.moduleLayers.2._layers3.0.conv.weight True\n",
      "decoder.moduleLayers.2._layers3.0.conv.bias True\n",
      "decoder.moduleLayers.2._layers3.1.weight True\n",
      "decoder.moduleLayers.2._layers3.1.bias True\n",
      "decoder.moduleLayers.2._layers3.2.weight True\n",
      "decoder.moduleLayers.2._layers3.3.conv.weight True\n",
      "decoder.moduleLayers.2._layers3.3.conv.bias True\n",
      "decoder.moduleLayers.2._layers3.4.weight True\n",
      "decoder.moduleLayers.2._layers3.4.bias True\n",
      "decoder.moduleLayers.2._layers3.5.weight True\n",
      "decoder.moduleLayers.2._layers3.6.conv.weight True\n",
      "decoder.moduleLayers.2._layers3.6.conv.bias True\n",
      "decoder.moduleLayers.2._layers3.7.conv.weight True\n",
      "decoder.moduleLayers.2._layers3.7.conv.bias True\n",
      "decoder.moduleLayers.2._layers3.8.weight True\n",
      "decoder.moduleLayers.3._layers.1.conv.weight True\n",
      "decoder.moduleLayers.3._layers.1.conv.bias True\n",
      "decoder.moduleLayers.3._layers.2.weight True\n",
      "decoder.moduleLayers.3._layers.2.bias True\n",
      "decoder.moduleLayers.3._layers.3.weight True\n",
      "decoder.moduleLayers.3._layers.4.conv.weight True\n",
      "decoder.moduleLayers.3._layers.4.conv.bias True\n",
      "decoder.moduleLayers.3._layers.5.weight True\n",
      "decoder.moduleLayers.3._layers.5.bias True\n",
      "decoder.moduleLayers.3._layers.6.weight True\n",
      "decoder.moduleLayers.3._layers2.0.conv.weight True\n",
      "decoder.moduleLayers.3._layers2.0.conv.bias True\n",
      "decoder.moduleLayers.3._layers2.1.weight True\n",
      "decoder.moduleLayers.3._layers2.1.bias True\n",
      "decoder.moduleLayers.3._layers2.2.weight True\n",
      "decoder.moduleLayers.3._layers2.3.conv.weight True\n",
      "decoder.moduleLayers.3._layers2.3.conv.bias True\n",
      "decoder.moduleLayers.3._layers2.4.weight True\n",
      "decoder.moduleLayers.3._layers2.4.bias True\n",
      "decoder.moduleLayers.3._layers2.5.weight True\n",
      "decoder.moduleLayers.3._layers2.6.conv.weight True\n",
      "decoder.moduleLayers.3._layers2.6.conv.bias True\n",
      "decoder.moduleLayers.3._layers2.7.conv.weight True\n",
      "decoder.moduleLayers.3._layers2.7.conv.bias True\n",
      "decoder.moduleLayers.3._layers2.8.weight True\n",
      "decoder.moduleLayers.3._layers3.0.conv.weight True\n",
      "decoder.moduleLayers.3._layers3.0.conv.bias True\n",
      "decoder.moduleLayers.3._layers3.1.weight True\n",
      "decoder.moduleLayers.3._layers3.1.bias True\n",
      "decoder.moduleLayers.3._layers3.2.weight True\n",
      "decoder.moduleLayers.3._layers3.3.conv.weight True\n",
      "decoder.moduleLayers.3._layers3.3.conv.bias True\n",
      "decoder.moduleLayers.3._layers3.4.weight True\n",
      "decoder.moduleLayers.3._layers3.4.bias True\n",
      "decoder.moduleLayers.3._layers3.5.weight True\n",
      "decoder.moduleLayers.3._layers3.6.conv.weight True\n",
      "decoder.moduleLayers.3._layers3.6.conv.bias True\n",
      "decoder.moduleLayers.3._layers3.7.conv.weight True\n",
      "decoder.moduleLayers.3._layers3.7.conv.bias True\n",
      "decoder.moduleLayers.3._layers3.8.weight True\n",
      "decoder.subdecs.0.weight True\n",
      "decoder.subdecs.0.bias True\n",
      "decoder.subdecs.1.weight True\n",
      "decoder.subdecs.1.bias True\n",
      "decoder.subdecs.2.weight True\n",
      "decoder.subdecs.2.bias True\n",
      "prior._weight_dict.01 False\n",
      "prior._weight_dict.02 False\n",
      "prior._weight_dict.03 False\n",
      "prior._weight_dict.12 False\n",
      "prior._weight_dict.13 False\n",
      "prior._weight_dict.23 False\n",
      "prior._bias_dict.0 False\n",
      "prior._bias_dict.1 False\n",
      "prior._bias_dict.2 False\n",
      "prior._bias_dict.3 False\n",
      "prior._weight_mask_dict.01 False\n",
      "prior._weight_mask_dict.02 False\n",
      "prior._weight_mask_dict.03 False\n",
      "prior._weight_mask_dict.12 False\n",
      "prior._weight_mask_dict.13 False\n",
      "prior._weight_mask_dict.23 False\n"
     ]
    },
    {
     "name": "stderr",
     "output_type": "stream",
     "text": [
      "\u001b[1m[03:40:45.522]\u001b[0m \u001b[1;95mINFO \u001b[1;0m  \u001b[1mmodel.modelCreator                                \u001b[0mLoading weights from file : /fast_scratch_1/caloqvae/jtoledo/wandb/run-20250712_031134-be4t7ksb/files/autoencoderbase_0.pth\n"
     ]
    },
    {
     "name": "stdout",
     "output_type": "stream",
     "text": [
      "Loading weights for module =  _hit_smoothing_dist_mod\n",
      "Loading weights for module =  _bce_loss\n",
      "Loading weights for module =  encoder\n",
      "Loading weights for module =  decoder\n",
      "Loading weights for module =  prior\n"
     ]
    }
   ],
   "source": [
    "new_model = False\n",
    "if new_model:\n",
    "    self = setup_model(config)\n",
    "    # self.model = self.model.double()  # sets all model parameters to float64\n",
    "else:\n",
    "    self = load_model_instance(config.config_path)\n",
    "    # self.model = self.model.double()\n"
   ]
  },
  {
   "cell_type": "code",
   "execution_count": 82,
   "id": "a38fb06e",
   "metadata": {},
   "outputs": [],
   "source": [
    "# config.model.decoder_input\n",
    "# self.model.decoder\n",
    "self.total_loss_dict = {}"
   ]
  },
  {
   "cell_type": "code",
   "execution_count": 92,
   "id": "260b8492",
   "metadata": {},
   "outputs": [
    {
     "name": "stdout",
     "output_type": "stream",
     "text": [
      "{'val_ae_loss': tensor(4064.0273, device='cuda:1'), 'val_kl_loss': tensor(-406.7999, device='cuda:1'), 'val_hit_loss': tensor(2196.3430, device='cuda:1'), 'val_entropy': tensor(-442.5678, device='cuda:1'), 'val_pos_energy': tensor(-246.3113, device='cuda:1'), 'val_neg_energy': tensor(282.0793, device='cuda:1'), 'val_loss': tensor(5853.5703, device='cuda:1')}\n"
     ]
    }
   ],
   "source": [
    "with torch.no_grad():\n",
    "    self.model.eval()\n",
    "    self.model.training = True\n",
    "    self.model.encoder.training=False\n",
    "    self.model.decoder.training = False\n",
    "    self.model._hit_smoothing_dist_mod.training = False\n",
    "    for i, (x, x0) in enumerate(self.data_mgr.test_loader):\n",
    "        # x, x0 = next(iter(self.data_mgr.val_loader))\n",
    "        x = x.to(self.device)\n",
    "        x0 = x0.to(self.device)\n",
    "        x = self._reduce(x, x0)\n",
    "        # Forward pass\n",
    "        output = self.model((x, x0), self.beta, 0)\n",
    "        # Compute loss\n",
    "        loss_dict = self.model.loss(x, output)\n",
    "        loss_dict[\"loss\"] = torch.stack([loss_dict[key] * self._config.model.loss_coeff[key]  for key in loss_dict.keys() if \"loss\" != key]).sum()\n",
    "        for key in list(loss_dict.keys()):\n",
    "            loss_dict['val_'+key] = loss_dict[key]\n",
    "            loss_dict.pop(key)\n",
    "        self.aggr_loss(self.data_mgr.val_loader, loss_dict)\n",
    "        print(loss_dict)\n",
    "        break\n",
    "        # if torch.isnan(loss_dict['val_ae_loss']):\n",
    "            # print(i)"
   ]
  },
  {
   "cell_type": "code",
   "execution_count": 106,
   "id": "84f85485",
   "metadata": {},
   "outputs": [
    {
     "data": {
      "text/plain": [
       "4491.593730028446"
      ]
     },
     "execution_count": 106,
     "metadata": {},
     "output_type": "execute_result"
    }
   ],
   "source": [
    "6480*np.log(2)"
   ]
  },
  {
   "cell_type": "code",
   "execution_count": 109,
   "id": "9dee6a00",
   "metadata": {},
   "outputs": [
    {
     "data": {
      "text/plain": [
       "0.7812082024342466"
      ]
     },
     "execution_count": 109,
     "metadata": {},
     "output_type": "execute_result"
    }
   ],
   "source": [
    "1/np.exp(1600/6480)"
   ]
  },
  {
   "cell_type": "code",
   "execution_count": 110,
   "id": "93527304",
   "metadata": {},
   "outputs": [
    {
     "data": {
      "text/plain": [
       "1.227006172839506"
      ]
     },
     "execution_count": 110,
     "metadata": {},
     "output_type": "execute_result"
    }
   ],
   "source": [
    "7951/6480"
   ]
  },
  {
   "cell_type": "code",
   "execution_count": 111,
   "id": "e1ea958d",
   "metadata": {},
   "outputs": [
    {
     "data": {
      "text/plain": [
       "2381.1475409836066"
      ]
     },
     "execution_count": 111,
     "metadata": {},
     "output_type": "execute_result"
    }
   ],
   "source": [
    "2905/1.22"
   ]
  },
  {
   "cell_type": "code",
   "execution_count": 112,
   "id": "f63f4550",
   "metadata": {},
   "outputs": [
    {
     "data": {
      "text/plain": [
       "tensor([0.5481, 0.4403, 0.4675, 0.3510, 0.5460, 0.4444, 0.4249, 0.5824, 0.5637,\n",
       "        0.5127, 0.5563, 0.6025, 0.5552, 0.6179, 0.6048, 0.4942, 0.4330, 0.5279,\n",
       "        0.4374, 0.3947])"
      ]
     },
     "execution_count": 112,
     "metadata": {},
     "output_type": "execute_result"
    }
   ],
   "source": [
    "torch.rand(10,20).mean(dim=0)"
   ]
  },
  {
   "cell_type": "code",
   "execution_count": 113,
   "id": "7f7409b4",
   "metadata": {},
   "outputs": [
    {
     "data": {
      "text/plain": [
       "tensor([0.2538, 0.1370, 0.0428, 0.2076, 0.9547, 0.3663, 0.1745, 0.8925, 0.5019,\n",
       "        0.1748, 0.3585, 0.2889, 0.9780, 0.4932, 0.8277, 0.4773, 0.4890, 0.1559,\n",
       "        0.5237, 0.0838])"
      ]
     },
     "execution_count": 113,
     "metadata": {},
     "output_type": "execute_result"
    }
   ],
   "source": [
    "torch.rand(10,20)[0]"
   ]
  },
  {
   "cell_type": "code",
   "execution_count": null,
   "id": "2548bb10",
   "metadata": {},
   "outputs": [],
   "source": []
  }
 ],
 "metadata": {
  "kernelspec": {
   "display_name": "Python 3 (ipykernel)",
   "language": "python",
   "name": "python3"
  },
  "language_info": {
   "codemirror_mode": {
    "name": "ipython",
    "version": 3
   },
   "file_extension": ".py",
   "mimetype": "text/x-python",
   "name": "python",
   "nbconvert_exporter": "python",
   "pygments_lexer": "ipython3",
   "version": "3.12.3"
  }
 },
 "nbformat": 4,
 "nbformat_minor": 5
}
