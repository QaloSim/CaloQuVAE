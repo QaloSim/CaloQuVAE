{
 "cells": [
  {
   "cell_type": "code",
   "execution_count": null,
   "id": "a15d90e2",
   "metadata": {},
   "outputs": [
    {
     "name": "stdout",
     "output_type": "stream",
     "text": [
      "Arrays in file: ['array1', 'array2', 'array3', 'array4', 'array5', 'array6', 'array7', 'array8', 'array9']\n"
     ]
    },
    {
     "ename": "KeyError",
     "evalue": "'arr_0 is not a file in the archive'",
     "output_type": "error",
     "traceback": [
      "\u001b[31m---------------------------------------------------------------------------\u001b[39m",
      "\u001b[31mKeyError\u001b[39m                                  Traceback (most recent call last)",
      "\u001b[36mCell\u001b[39m\u001b[36m \u001b[39m\u001b[32mIn[1]\u001b[39m\u001b[32m, line 16\u001b[39m\n\u001b[32m     11\u001b[39m \u001b[38;5;28mprint\u001b[39m(\u001b[33m\"\u001b[39m\u001b[33mArrays in file:\u001b[39m\u001b[33m\"\u001b[39m, loaded_data.files)\n\u001b[32m     12\u001b[39m \u001b[38;5;66;03m# Expected output: ['arr_0', 'arr_1', 'arr_2', 'arr_3', 'arr_4', 'arr_5', 'arr_6', 'arr_7', 'arr_8']\u001b[39;00m\n\u001b[32m     13\u001b[39m \n\u001b[32m     14\u001b[39m \u001b[38;5;66;03m# Assign the data to variables based on the original order\u001b[39;00m\n\u001b[32m     15\u001b[39m \u001b[38;5;66;03m# (en_list, fpd_recon, fpd_recon_err, kpd_recon, kpd_recon_err, fpd_sample, ...)\u001b[39;00m\n\u001b[32m---> \u001b[39m\u001b[32m16\u001b[39m en_list = \u001b[43mloaded_data\u001b[49m\u001b[43m[\u001b[49m\u001b[33;43m'\u001b[39;49m\u001b[33;43marr_0\u001b[39;49m\u001b[33;43m'\u001b[39;49m\u001b[43m]\u001b[49m\n\u001b[32m     17\u001b[39m fpd_recon = loaded_data[\u001b[33m'\u001b[39m\u001b[33marr_1\u001b[39m\u001b[33m'\u001b[39m]\n\u001b[32m     18\u001b[39m fpd_recon_err = loaded_data[\u001b[33m'\u001b[39m\u001b[33marr_2\u001b[39m\u001b[33m'\u001b[39m]\n",
      "\u001b[36mFile \u001b[39m\u001b[32m/usr/local/lib/python3.12/dist-packages/numpy/lib/npyio.py:263\u001b[39m, in \u001b[36mNpzFile.__getitem__\u001b[39m\u001b[34m(self, key)\u001b[39m\n\u001b[32m    261\u001b[39m         \u001b[38;5;28;01mreturn\u001b[39;00m \u001b[38;5;28mself\u001b[39m.zip.read(key)\n\u001b[32m    262\u001b[39m \u001b[38;5;28;01melse\u001b[39;00m:\n\u001b[32m--> \u001b[39m\u001b[32m263\u001b[39m     \u001b[38;5;28;01mraise\u001b[39;00m \u001b[38;5;167;01mKeyError\u001b[39;00m(\u001b[33mf\u001b[39m\u001b[33m\"\u001b[39m\u001b[38;5;132;01m{\u001b[39;00mkey\u001b[38;5;132;01m}\u001b[39;00m\u001b[33m is not a file in the archive\u001b[39m\u001b[33m\"\u001b[39m)\n",
      "\u001b[31mKeyError\u001b[39m: 'arr_0 is not a file in the archive'"
     ]
    }
   ],
   "source": [
    "import numpy as np\n",
    "\n",
    "# Assume 'run_path' is the path you passed to the flush method\n",
    "# and the file was saved as 'hep_metrics.npz' within it.\n",
    "file_path = \"/home/leozhu/CaloQuVAE/wandb-outputs/run-20250718_163200-em9a1ujl/files/JetData.npz\"\n",
    "\n",
    "# Load the .npz file\n",
    "loaded_data = np.load(file_path)\n",
    "\n",
    "# You can see the names of the arrays stored in the file\n",
    "print(\"Arrays in file:\", loaded_data.files)\n",
    "# Expected output: ['arr_0', 'arr_1', 'arr_2', 'arr_3', 'arr_4', 'arr_5', 'arr_6', 'arr_7', 'arr_8']\n",
    "\n",
    "# Assign the data to variables based on the original order\n",
    "# (en_list, fpd_recon, fpd_recon_err, kpd_recon, kpd_recon_err, fpd_sample, ...)\n",
    "en_list = loaded_data['array1']\n",
    "fpd_recon = loaded_data['array2']\n",
    "fpd_recon_err = loaded_data['array3']\n",
    "kpd_recon = loaded_data['array4']\n",
    "kpd_recon_err = loaded_data['array5']\n",
    "fpd_sample = loaded_data['array6']\n",
    "fpd_sample_err = loaded_data['array7']\n",
    "kpd_sample = loaded_data['array8']\n",
    "kpd_sample_err = loaded_data['array9']\n",
    "\n",
    "# Now you can perform further analysis 📈\n",
    "print(\"\\nLoaded Epochs:\", en_list)\n",
    "print(\"Loaded FPD Sample values:\", fpd_sample)\n"
   ]
  },
  {
   "cell_type": "code",
   "execution_count": null,
   "id": "570d8a7a",
   "metadata": {},
   "outputs": [],
   "source": []
  }
 ],
 "metadata": {
  "kernelspec": {
   "display_name": "Python 3 (ipykernel)",
   "language": "python",
   "name": "python3"
  },
  "language_info": {
   "codemirror_mode": {
    "name": "ipython",
    "version": 3
   },
   "file_extension": ".py",
   "mimetype": "text/x-python",
   "name": "python",
   "nbconvert_exporter": "python",
   "pygments_lexer": "ipython3",
   "version": "3.12.3"
  }
 },
 "nbformat": 4,
 "nbformat_minor": 5
}
