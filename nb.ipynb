{
 "cells": [
  {
   "cell_type": "code",
   "execution_count": 1,
   "id": "c23177f8",
   "metadata": {},
   "outputs": [],
   "source": [
    "import torch"
   ]
  },
  {
   "cell_type": "code",
   "execution_count": null,
   "id": "21970f44",
   "metadata": {},
   "outputs": [],
   "source": [
    "fn = filenames[0]\n",
    "print(fn)\n",
    "ATLAS_raw_dir = directory + fn #filenames[-2]\n",
    "with h5py.File(ATLAS_raw_dir, 'r') as file:\n",
    "    # List all groups\n",
    "    f = {}\n",
    "    # print(\"Keys: %s\" % list(file.keys()))\n",
    "    for key in file.keys():\n",
    "        f[key] = torch.tensor(np.array(file[key]))\n"
   ]
  }
 ],
 "metadata": {
  "kernelspec": {
   "display_name": "Python 3 (ipykernel)",
   "language": "python",
   "name": "python3"
  },
  "language_info": {
   "codemirror_mode": {
    "name": "ipython",
    "version": 3
   },
   "file_extension": ".py",
   "mimetype": "text/x-python",
   "name": "python",
   "nbconvert_exporter": "python",
   "pygments_lexer": "ipython3",
   "version": "3.12.3"
  }
 },
 "nbformat": 4,
 "nbformat_minor": 5
}
