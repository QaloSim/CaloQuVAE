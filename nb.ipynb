{
 "cells": [
  {
   "cell_type": "code",
   "execution_count": 1,
   "id": "c23177f8",
   "metadata": {},
   "outputs": [],
   "source": [
    "import torch\n",
    "import h5py\n",
    "import numpy as np\n",
    "PATH = \"/fast_scratch_1/caloqvae/data/atlas_dataset2and3/dataset_2_1.hdf5\""
   ]
  },
  {
   "cell_type": "code",
   "execution_count": 21,
   "id": "21970f44",
   "metadata": {},
   "outputs": [],
   "source": [
    "\n",
    "\n",
    "with h5py.File(PATH, 'r') as file:\n",
    "    # List all groups\n",
    "    f = {}\n",
    "    # print(\"Keys: %s\" % list(file.keys()))\n",
    "    for key in file.keys():\n",
    "        f[key] = torch.tensor(np.array(file[key]))\n"
   ]
  },
  {
   "cell_type": "code",
   "execution_count": 15,
   "id": "7909d98c",
   "metadata": {},
   "outputs": [],
   "source": [
    "tr = int(np.floor(f[\"showers\"].shape[0] * 0.8))\n",
    "ts = int(np.floor(f[\"showers\"].shape[0] * 0.1))"
   ]
  },
  {
   "cell_type": "code",
   "execution_count": 12,
   "id": "4d0e1478",
   "metadata": {},
   "outputs": [],
   "source": [
    "import torch\n",
    "from hydra.utils import instantiate\n",
    "from hydra import initialize, compose\n",
    "import hydra\n",
    "\n",
    "from data.dataManager import DataManager\n",
    "from model.modelCreator import ModelCreator"
   ]
  },
  {
   "cell_type": "code",
   "execution_count": 2,
   "id": "0e48f8d8",
   "metadata": {},
   "outputs": [
    {
     "data": {
      "text/plain": [
       "hydra.initialize()"
      ]
     },
     "execution_count": 2,
     "metadata": {},
     "output_type": "execute_result"
    }
   ],
   "source": [
    "hydra.core.global_hydra.GlobalHydra.instance().clear()\n",
    "initialize(version_base=None, config_path=\"config\")"
   ]
  },
  {
   "cell_type": "code",
   "execution_count": 3,
   "id": "c07e7268",
   "metadata": {},
   "outputs": [],
   "source": [
    "config=compose(config_name=\"config.yaml\")"
   ]
  },
  {
   "cell_type": "code",
   "execution_count": 15,
   "id": "ba9af30f",
   "metadata": {},
   "outputs": [
    {
     "name": "stderr",
     "output_type": "stream",
     "text": [
      "\u001b[1m[21:29:05.284]\u001b[0m \u001b[1;95mINFO \u001b[1;0m  \u001b[1mdata.dataManager                                  \u001b[0mKeys: ['incident_energies', 'showers']\n",
      "\u001b[1m[21:29:08.379]\u001b[0m \u001b[1;95mINFO \u001b[1;0m  \u001b[1mdata.dataManager                                  \u001b[0mdict_keys(['incident_energies', 'showers'])\n",
      "\u001b[1m[21:29:08.385]\u001b[0m \u001b[1;95mINFO \u001b[1;0m  \u001b[1mdata.dataManager                                  \u001b[0m<torch.utils.data.dataloader.DataLoader object at 0x7fabb8c44fe0>: 101816 events, 796 batches\n",
      "\u001b[1m[21:29:08.386]\u001b[0m \u001b[1;95mINFO \u001b[1;0m  \u001b[1mdata.dataManager                                  \u001b[0m<torch.utils.data.dataloader.DataLoader object at 0x7fabb8b402c0>: 12728 events, 13 batches\n",
      "\u001b[1m[21:29:08.387]\u001b[0m \u001b[1;95mINFO \u001b[1;0m  \u001b[1mdata.dataManager                                  \u001b[0m<torch.utils.data.dataloader.DataLoader object at 0x7fabb8c45220>: 12727 events, 13 batches\n"
     ]
    },
    {
     "ename": "NotImplementedError",
     "evalue": "",
     "output_type": "error",
     "traceback": [
      "\u001b[31m---------------------------------------------------------------------------\u001b[39m",
      "\u001b[31mNotImplementedError\u001b[39m                       Traceback (most recent call last)",
      "\u001b[36mCell\u001b[39m\u001b[36m \u001b[39m\u001b[32mIn[15]\u001b[39m\u001b[32m, line 9\u001b[39m\n\u001b[32m      6\u001b[39m \u001b[38;5;66;03m#instantiate the chosen model\u001b[39;00m\n\u001b[32m      7\u001b[39m \u001b[38;5;66;03m#loads from file \u001b[39;00m\n\u001b[32m      8\u001b[39m model=modelCreator.init_model()\n\u001b[32m----> \u001b[39m\u001b[32m9\u001b[39m \u001b[43mmodel\u001b[49m\u001b[43m.\u001b[49m\u001b[43mcreate_networks\u001b[49m\u001b[43m(\u001b[49m\u001b[43m)\u001b[49m\n",
      "\u001b[36mFile \u001b[39m\u001b[32m~/CaloQuVAE/model/autoencoder/autoencoderbase.py:52\u001b[39m, in \u001b[36mcreate_networks\u001b[39m\u001b[34m(self)\u001b[39m\n\u001b[32m     49\u001b[39m     logger.debug(\"Creating Network Structures\")\n\u001b[32m     50\u001b[39m     self.encoder=self._create_encoder()\n\u001b[32m     51\u001b[39m     # self.prior=self._create_prior()\n\u001b[32m---> \u001b[39m\u001b[32m52\u001b[39m     # self.decoder=self._create_decoder()\n\u001b[32m     53\u001b[39m     # self.sampler = self._create_sampler()\n\u001b[32m     54\u001b[39m     # self.stater = self._create_stat()\n\u001b[32m     55\u001b[39m     \n\u001b[32m     56\u001b[39m     # self._qpu_sampler = self.prior._qpu_sampler\n\u001b[32m     57\u001b[39m     # self.sampling_time_qpu = []\n\u001b[32m     58\u001b[39m     # self.sampling_time_gpu = []\n\u001b[32m     59\u001b[39m \n\u001b[32m     60\u001b[39m # def generate_samples(self):\n\u001b[32m     61\u001b[39m #     raise NotImplementedError\n\u001b[32m     62\u001b[39m \n\u001b[32m     63\u001b[39m # def __repr__(self):\n\u001b[32m     64\u001b[39m #     parameter_string=\"\\n\".join([str(par.shape) if isinstance(par,torch.Tensor) else str(par)  for par in self.__dict__.items()])\n\u001b[32m     65\u001b[39m #     return parameter_string\n\u001b[32m     66\u001b[39m \n\u001b[32m     67\u001b[39m # def forward(self, x):\n\u001b[32m     68\u001b[39m #     \"\"\"[summary]\n\u001b[32m     69\u001b[39m \n\u001b[32m     70\u001b[39m #     Args:\n\u001b[32m     71\u001b[39m #         input_data (): [aaa]\n\u001b[32m     72\u001b[39m \n\u001b[32m     73\u001b[39m #     Raises:\n\u001b[32m     74\u001b[39m #         NotImplementedError: [ccc]\n\u001b[32m     75\u001b[39m #     \"\"\"\n\u001b[32m     76\u001b[39m #     raise NotImplementedError\n\u001b[32m     78\u001b[39m def print_model_info(self):\n\u001b[32m     79\u001b[39m     for key,par in self.__dict__.items():\n",
      "\u001b[36mFile \u001b[39m\u001b[32m~/CaloQuVAE/model/autoencoder/autoencoderbase.py:36\u001b[39m, in \u001b[36m_create_encoder\u001b[39m\u001b[34m(self)\u001b[39m\n\u001b[32m     32\u001b[39m     logger.debug(\u001b[33m\"\u001b[39m\u001b[33m::_create_encoder\u001b[39m\u001b[33m\"\u001b[39m)\n\u001b[32m     34\u001b[39m     \u001b[38;5;28;01mreturn\u001b[39;00m HierarchicalEncoder(\u001b[38;5;28mself\u001b[39m._config)\n\u001b[32m---> \u001b[39m\u001b[32m36\u001b[39m \u001b[38;5;28;01mdef\u001b[39;00m\u001b[38;5;250m \u001b[39m\u001b[34m_create_decoder\u001b[39m(\u001b[38;5;28mself\u001b[39m):\n\u001b[32m     37\u001b[39m     \u001b[38;5;28;01mraise\u001b[39;00m \u001b[38;5;167;01mNotImplementedError\u001b[39;00m\n\u001b[32m     39\u001b[39m \u001b[38;5;28;01mdef\u001b[39;00m\u001b[38;5;250m \u001b[39m\u001b[34m_create_sampler\u001b[39m(\u001b[38;5;28mself\u001b[39m):\n",
      "\u001b[31mNotImplementedError\u001b[39m: "
     ]
    }
   ],
   "source": [
    "dataMgr = DataManager(config)\n",
    "\n",
    "#create model handling object\n",
    "modelCreator = ModelCreator(config)\n",
    "\n",
    "#instantiate the chosen model\n",
    "#loads from file \n",
    "model=modelCreator.init_model()\n",
    "model.create_networks()"
   ]
  },
  {
   "cell_type": "code",
   "execution_count": 14,
   "id": "23106ff5",
   "metadata": {},
   "outputs": [
    {
     "data": {
      "text/plain": [
       "<bound method AutoEncoderBase.print_model_info of AutoEncoderBase()>"
      ]
     },
     "execution_count": 14,
     "metadata": {},
     "output_type": "execute_result"
    }
   ],
   "source": [
    "model.print_model_info"
   ]
  },
  {
   "cell_type": "code",
   "execution_count": 7,
   "id": "388ade36",
   "metadata": {},
   "outputs": [],
   "source": [
    "from model.encoder.encoderhierarchybase import HierarchicalEncoder"
   ]
  },
  {
   "cell_type": "code",
   "execution_count": 8,
   "id": "965b389b",
   "metadata": {},
   "outputs": [],
   "source": [
    "enc = HierarchicalEncoder(config)"
   ]
  },
  {
   "cell_type": "code",
   "execution_count": 13,
   "id": "4d59e776",
   "metadata": {},
   "outputs": [
    {
     "data": {
      "text/plain": [
       "(tensor(5.),\n",
       " [tensor([[ 5.3311e-02, -1.1581e-01,  7.8747e-02,  ...,  1.5792e-04,\n",
       "           -4.9996e-02,  3.5318e-02],\n",
       "          [ 6.2303e-02, -9.8599e-02,  7.3160e-02,  ..., -2.6149e-02,\n",
       "           -4.2177e-02,  3.7049e-02],\n",
       "          [ 5.2927e-02, -1.1597e-01,  8.6535e-02,  ..., -1.1240e-02,\n",
       "           -4.6329e-02,  3.9148e-02],\n",
       "          ...,\n",
       "          [ 5.7003e-02, -1.0246e-01,  7.5525e-02,  ..., -1.6580e-02,\n",
       "           -3.7898e-02,  4.6485e-02],\n",
       "          [ 5.2346e-02, -1.1706e-01,  7.9303e-02,  ..., -4.8886e-03,\n",
       "           -3.7729e-02,  4.3794e-02],\n",
       "          [-2.3839e-02, -1.2354e-01,  2.1129e-01,  ...,  1.2532e-01,\n",
       "            2.4063e-02,  1.0864e-02]], grad_fn=<ClampBackward1>),\n",
       "  tensor([[ 0.0192, -0.1110,  0.0105,  ...,  0.0808,  0.0155,  0.1094],\n",
       "          [ 0.0214, -0.0860,  0.0300,  ...,  0.0967,  0.0448,  0.0861],\n",
       "          [ 0.0203, -0.0941,  0.0091,  ...,  0.0892,  0.0418,  0.0920],\n",
       "          ...,\n",
       "          [ 0.0299, -0.1018,  0.0114,  ...,  0.0936,  0.0355,  0.0776],\n",
       "          [ 0.0221, -0.0990,  0.0046,  ...,  0.0844,  0.0328,  0.0681],\n",
       "          [ 0.0588, -0.1027,  0.0131,  ...,  0.0536, -0.0225,  0.2389]],\n",
       "         grad_fn=<ClampBackward1>),\n",
       "  tensor([[ 0.0246,  0.0073,  0.0870,  ...,  0.0319, -0.0540,  0.0623],\n",
       "          [ 0.0291,  0.0314,  0.0637,  ...,  0.0388, -0.0581,  0.0141],\n",
       "          [ 0.0452,  0.0274,  0.0839,  ...,  0.0148, -0.0539,  0.0468],\n",
       "          ...,\n",
       "          [ 0.0344,  0.0171,  0.0719,  ...,  0.0136, -0.0409,  0.0375],\n",
       "          [ 0.0529,  0.0218,  0.0828,  ...,  0.0202, -0.0482,  0.0457],\n",
       "          [ 0.1597,  0.0012,  0.1747,  ...,  0.0641, -0.1243,  0.1598]],\n",
       "         grad_fn=<ClampBackward1>),\n",
       "  tensor([[-0.0060,  0.0687, -0.0010,  ...,  0.0034,  0.0356, -0.0079],\n",
       "          [-0.0027,  0.0650, -0.0214,  ..., -0.0064,  0.0293, -0.0127],\n",
       "          [-0.0062,  0.0702,  0.0081,  ..., -0.0024,  0.0233, -0.0247],\n",
       "          ...,\n",
       "          [-0.0064,  0.0725, -0.0135,  ..., -0.0222,  0.0206, -0.0432],\n",
       "          [-0.0104,  0.0700,  0.0099,  ..., -0.0157,  0.0041, -0.0391],\n",
       "          [-0.0422, -0.0704, -0.0136,  ...,  0.1150, -0.0162,  0.0216]],\n",
       "         grad_fn=<ClampBackward1>)],\n",
       " [tensor([[0, 1, 0,  ..., 0, 0, 0],\n",
       "          [1, 0, 0,  ..., 0, 0, 0],\n",
       "          [1, 1, 1,  ..., 0, 0, 0],\n",
       "          ...,\n",
       "          [1, 0, 0,  ..., 0, 0, 0],\n",
       "          [1, 0, 0,  ..., 0, 0, 0],\n",
       "          [0, 0, 1,  ..., 0, 0, 0]], dtype=torch.uint8),\n",
       "  tensor([[9.9988e-01, 2.8331e-03, 9.9995e-01,  ..., 1.0000e+00, 1.2455e-02,\n",
       "           9.9929e-01],\n",
       "          [1.1536e-05, 7.7164e-01, 9.9999e-01,  ..., 5.2470e-05, 7.4475e-05,\n",
       "           4.7856e-04],\n",
       "          [5.6113e-03, 9.9249e-01, 1.2455e-02,  ..., 1.0000e+00, 8.6390e-02,\n",
       "           6.2095e-03],\n",
       "          ...,\n",
       "          [9.9887e-01, 9.9999e-01, 9.7695e-01,  ..., 4.2161e-03, 1.1122e-08,\n",
       "           9.6019e-06],\n",
       "          [9.9496e-01, 1.2568e-05, 9.9983e-01,  ..., 9.0860e-02, 3.2750e-09,\n",
       "           9.9999e-01],\n",
       "          [3.5844e-01, 3.3211e-04, 6.4506e-03,  ..., 1.0000e+00, 9.9860e-01,\n",
       "           9.9942e-01]], grad_fn=<SigmoidBackward0>),\n",
       "  tensor([[6.1984e-01, 1.4593e-01, 5.1643e-03,  ..., 9.9999e-01, 9.8152e-01,\n",
       "           9.4553e-01],\n",
       "          [9.9999e-01, 1.0110e-05, 1.0000e+00,  ..., 1.4611e-03, 7.5376e-02,\n",
       "           7.3992e-02],\n",
       "          [7.7868e-04, 1.0000e+00, 5.3173e-01,  ..., 9.6461e-01, 1.0000e+00,\n",
       "           1.2134e-01],\n",
       "          ...,\n",
       "          [8.8590e-01, 9.9999e-01, 2.7213e-08,  ..., 8.2033e-01, 6.1671e-04,\n",
       "           2.4071e-07],\n",
       "          [9.9997e-01, 7.6147e-01, 7.6947e-01,  ..., 9.4896e-01, 5.6304e-02,\n",
       "           9.9996e-01],\n",
       "          [1.2585e-03, 1.0000e+00, 5.1781e-05,  ..., 9.9944e-01, 7.8215e-01,\n",
       "           2.9560e-07]], grad_fn=<SigmoidBackward0>),\n",
       "  tensor([[7.6138e-02, 1.4847e-04, 9.9963e-01,  ..., 7.8229e-01, 7.1299e-01,\n",
       "           1.6308e-03],\n",
       "          [2.4649e-03, 5.9304e-02, 9.9988e-01,  ..., 9.9771e-01, 9.9980e-01,\n",
       "           2.9490e-03],\n",
       "          [7.6455e-01, 8.7759e-01, 4.8429e-02,  ..., 4.4250e-09, 9.9658e-01,\n",
       "           9.8814e-01],\n",
       "          ...,\n",
       "          [5.1900e-02, 9.9999e-01, 2.3379e-04,  ..., 1.0698e-01, 1.0000e+00,\n",
       "           3.4787e-01],\n",
       "          [2.5754e-03, 1.2086e-04, 9.2151e-01,  ..., 9.0243e-02, 2.0906e-11,\n",
       "           1.5559e-02],\n",
       "          [2.8052e-10, 9.9988e-01, 9.8185e-01,  ..., 6.9656e-01, 7.8207e-06,\n",
       "           1.2356e-12]], grad_fn=<SigmoidBackward0>),\n",
       "  tensor([[1.2667e-06, 1.0000e+00, 5.3233e-01,  ..., 2.9546e-02, 9.9960e-01,\n",
       "           1.1966e-03],\n",
       "          [1.0373e-02, 4.4727e-06, 8.8317e-01,  ..., 9.2014e-02, 3.6522e-02,\n",
       "           9.9811e-01],\n",
       "          [8.9633e-03, 3.2547e-02, 9.9197e-01,  ..., 1.0000e+00, 8.0552e-01,\n",
       "           3.7270e-01],\n",
       "          ...,\n",
       "          [3.0770e-05, 2.8392e-04, 1.8826e-05,  ..., 1.6740e-03, 3.2890e-01,\n",
       "           9.9843e-01],\n",
       "          [9.9877e-01, 8.6799e-01, 4.4030e-01,  ..., 9.8442e-04, 1.0801e-03,\n",
       "           8.3928e-01],\n",
       "          [9.9997e-01, 9.9997e-01, 9.8417e-01,  ..., 4.1351e-06, 9.9996e-01,\n",
       "           1.1719e-02]], grad_fn=<SigmoidBackward0>)])"
      ]
     },
     "execution_count": 13,
     "metadata": {},
     "output_type": "execute_result"
    }
   ],
   "source": [
    "x = next(iter(dataMgr.train_loader))\n",
    "enc(x[0].to(dtype=torch.float32), x[1].to(dtype=torch.float32))"
   ]
  },
  {
   "cell_type": "code",
   "execution_count": null,
   "id": "ad105471",
   "metadata": {},
   "outputs": [],
   "source": []
  }
 ],
 "metadata": {
  "kernelspec": {
   "display_name": "Python 3 (ipykernel)",
   "language": "python",
   "name": "python3"
  },
  "language_info": {
   "codemirror_mode": {
    "name": "ipython",
    "version": 3
   },
   "file_extension": ".py",
   "mimetype": "text/x-python",
   "name": "python",
   "nbconvert_exporter": "python",
   "pygments_lexer": "ipython3",
   "version": "3.12.3"
  }
 },
 "nbformat": 4,
 "nbformat_minor": 5
}
